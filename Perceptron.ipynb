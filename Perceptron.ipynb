{
 "cells": [
  {
   "cell_type": "markdown",
   "metadata": {},
   "source": [
    "# Perceptron\n",
    "\n",
    "O Perceptron é um dos mais antigos modelos de aprendizado de maquina. Ele foi desenvolvido nas décadas de 1950 e 1960 por Frank Rosenblatt. Esse modelo é útil para resolver problemas de classificação binária linearmente separáveis.\n",
    "Sendo assim, para a satisfatória utilização do Perceptron, seus dados devem ser separados em entradas e suas respectivas saídas, essas que devem se limitar a duas classificações, e deve haver uma maneira de separar esses dados linearmente.\n",
    "\n",
    "O modelo se baseia em organizar os dados em um vetor $ x $ para suas entradas e um vetor $ y $ para suas respectivas saídas. E então, idealizar um vetor $ w $, de mesma dimensão que cada um dos dados de entrada, que seria responsável por estabelecer pesos para cada um dos dados de entrada, revelando sua importância para a decisão, ou classificação final correta.\n",
    "Com esse vetor $ w $ ideal, realizaria-se um produto interno entre ele e o vetor $ x $ e revelaria qual a classificação correta, por exemplo:\n",
    "\n",
    "Classificar como sim se $ \\sum \\limits _{i=1} ^{d} w_i x_i > constante $\n",
    "\n",
    "Classificar como não se $ \\sum \\limits _{i=1} ^{d} w_i x_i < constante $\n",
    "\n",
    "Ou, compactamente, assumindo um $ h(x) $ como uma função que da como resultado +1 se sim e -1 se não:\n",
    "\n",
    "$h(x) = sign((\\sum \\limits _{i=1} ^{d} w_i x_i) + b)$,\n",
    "\n",
    "onde o $ b $ é o chamado \"bias\", ou o limiar em relação a que consideramos uma classificação ou outra. Percebe-se que tanto os valores de $ w $ quanto de $ b $ são relativos, e pode haver mais de um conjunto deles que separa corretamente os dados linearmente.\n",
    "\n",
    "O alguns algoritmos então surgem para tentar, apenas tendo dados de entrada e saída, aproximar um vetor $ w $ que sirva para resolver o problema da maneira mais próxima da correta possível. Um algoritmo possível será implementado a seguir, ele se baseia em dados de entrada com duas dimensões, e que são completamente separáveis por uma reta.\n",
    "\n",
    "Esse algoritmo se baseia em inicializar o vetor $ w $ com valores aleatórios, realizar o produto interno: $ h(x) = \\langle w, x \\rangle$ e, em seguida, procurar algum dado que esteja classificado de uma maneira errônea, caso haja, o valor de $ w $ é atualizado de uma determinada maneira, e o processo se repete até que todos os pontos estejam classificados corretamente.\n",
    "\n",
    "Se os dados forem linearmente separáveis, e a atualização do vetor $ w $ ocorrer da maneira a seguir: $ w(t + 1) = w(t) + y(t)x(t)$ é possível mostrar que o algoritmo converge para que todos os pontos estejam separados corretamente.\n",
    "\n",
    "Algoritmo:\n",
    "\n",
    "1) Inicializa $ w $ com valores aleatóriamente escolhidos\n",
    "\n",
    "2) Verifica se há algum dado classificado errado\n",
    "\n",
    "3) Se há algum dado classificado errado, atualiza $ w(t + 1) = w(t) + y(t)x(t)$ e volta para 2)\n",
    "\n",
    "4) Fim.\n",
    "\n",
    "\n",
    "\n"
   ]
  },
  {
   "cell_type": "markdown",
   "metadata": {},
   "source": [
    "# Definições do algoritmo"
   ]
  },
  {
   "cell_type": "code",
   "execution_count": 12,
   "metadata": {},
   "outputs": [],
   "source": [
    "import numpy as np \n",
    "import matplotlib.pyplot as plt\n",
    "IT_LIMIT = 100000# Limite de iterações\n",
    "def esbocar(w, b, x, y, i):\n",
    "    pbx = np.max(x[:,0])\n",
    "    pby = np.max(x[:,1])\n",
    "    psx = np.min(x[:,0])\n",
    "    psy = np.min(x[:,1])\n",
    "    plt.figure(i)\n",
    "    plt.scatter(x[:,0],x[:,1],c=y)\n",
    "    u = np.linspace(psx - 1, pbx + 1, 1000)\n",
    "    v = -1 * (w[0] * u + b)/w[1]\n",
    "    plt.plot(u,v)\n",
    "    plt.grid(True)\n",
    "    plt.xlim(psx - 1, pbx + 1)\n",
    "    plt.ylim(psy - 1, pby + 1)\n",
    "    plt.xlabel('x axis')\n",
    "    plt.ylabel('y axis')\n",
    "    plt.title(\"Reta de separacao\")\n",
    "    \n",
    "def percepetron(x, y, b, wi):\n",
    "    it = 0 #número de iterações = 0\n",
    "    w = wi #inicializando com valores aleatórios\n",
    "    wb = w\n",
    "    erros = 1\n",
    "    merros = float(\"inf\")\n",
    "    esbocar(w, b, x, y, 0)\n",
    "    while (erros and it < IT_LIMIT):  #Enquanto o Algoritmo encontrar pontos classificados erroneamente, ele continua a rodar, a menos que o número de iterações passe o limite\n",
    "        erros = 0;\n",
    "        for i in range(len(x[:,0])):\n",
    "            s = w.dot(x[i,:])\n",
    "            #s = w[0]*x[i][0] + w[1]*x[i][1] # s é o resultado do produto interno do vetor w pelo vetor x\n",
    "            if ( s + b >= 0): # Analiza a classificação\n",
    "                h = 1;\n",
    "            else:\n",
    "                h = -1;\n",
    "            if (h * y[i] < 0):\n",
    "                w = w + y[i]*x[i]\n",
    "                #w[0] = w[0] + x[i][0] * y[i] # Atualização do vetor w\n",
    "                #w[1] = w[1] + x[i][1] * y[i]\n",
    "                erros += 1;\n",
    "        it += 1\n",
    "        if erros <= merros:\n",
    "            wb = w\n",
    "            merros = erros\n",
    "        if (it >= IT_LIMIT):\n",
    "            input(\"A reta não foi encontrada após 100000 iterações\")\n",
    "    esbocar(w, b, x, y, it)\n",
    "    return wb, it   \n",
    "\n",
    "\n",
    "def predict(x, w, b):\n",
    "    s = w.dot(x)\n",
    "    if (s + b >= 0):\n",
    "        h = 1;\n",
    "        print(\"O ponto recebido é amarelo\")\n",
    "    else:\n",
    "        h = -1\n",
    "        print(\"O ponto recebido é azul\")\n",
    "    return h\n"
   ]
  },
  {
   "cell_type": "markdown",
   "metadata": {},
   "source": [
    "# Teste 1\n",
    "\n",
    "Para testar nosso algoritmo perceptron, podemos criar um conjunto de dados linearmente separáveis, que serão divididos entre \"azuis\" e \"amarelos. Assim podemos visualizar como através das iterações, a nossa reta definida pelo vetor $ w $ e pelo \"bias\" se aproxima melhor de uma reta que separa os dados corretamente.\n",
    "\n",
    "Pontos \"Azuis\" : $ (1 , 2.5); (0.5, 0.5); (2, 2) $\n",
    "\n",
    "Pontos \"Amarelos : $ (6, 4); (8, 2); (6,2) $\n",
    "\n",
    "Utilizando: $ b = 1 $ e $ w_i = (0.2, 1)  $"
   ]
  },
  {
   "cell_type": "code",
   "execution_count": 13,
   "metadata": {},
   "outputs": [
    {
     "name": "stdout",
     "output_type": "stream",
     "text": [
      "A equacao da reta final é:  6.199999999999999 * x +  -8.5 * y + 1  = 0   encontrado em  12 iteracoes\n"
     ]
    },
    {
     "data": {
      "image/png": "[encoded data removed]",
      "text/plain": [
       "<Figure size 432x288 with 1 Axes>"
      ]
     },
     "metadata": {
      "needs_background": "light"
     },
     "output_type": "display_data"
    },
    {
     "data": {
      "image/png": "[encoded data removed]",
      "text/plain": [
       "<Figure size 432x288 with 1 Axes>"
      ]
     },
     "metadata": {
      "needs_background": "light"
     },
     "output_type": "display_data"
    }
   ],
   "source": [
    "#xis = np.array([[1, 2.5], [0.5, 0.5], [2, 2], [4, 0.1], [0.1, 5] , [6,4], [8,2], [6,2], [5, 5], [3, 7], [7, 6], [8, 5]])\n",
    "#yi = [-1 , -1, -1, -1 , -1 , 1, 1, 1, 1, 1, 1, 1]\n",
    "x = np.array([[1, 2.5], [0.5, 0.5], [2, 2], [6,4], [8,2], [6,2]])\n",
    "y = np.array([-1 , -1, -1, 1, 1, 1])\n",
    "b = 1\n",
    "wi = np.array([0.2, 1])\n",
    "[w, it] = percepetron(x, y, b, wi)\n",
    "\n",
    "print(\"A equacao da reta final é: \", w[0],\"* x + \", w[1],\"* y +\", b,\" = 0   encontrado em \", it, \"iteracoes\")\n"
   ]
  },
  {
   "cell_type": "markdown",
   "metadata": {},
   "source": [
    "# Previsão\n",
    "\n",
    "Depois que conseguimos uma Reta de separação satisfatória, algo interessante a se fazer é tentar \"prever\" qual cor seria de um novo ponto.\n",
    "\n",
    "Chutando 3 pontos:\n",
    "$A = (0, 0)$\n",
    "$B = (2, 1)$\n",
    "$C = (2, 2)$"
   ]
  },
  {
   "cell_type": "code",
   "execution_count": 10,
   "metadata": {},
   "outputs": [
    {
     "name": "stdout",
     "output_type": "stream",
     "text": [
      "O ponto recebido é amarelo\n",
      "O ponto recebido é amarelo\n",
      "O ponto recebido é azul\n"
     ]
    }
   ],
   "source": [
    "pa = [0,0]\n",
    "pb = [2,1]\n",
    "pc =[2,2]\n",
    "predict(pa, w, b)\n",
    "predict(pb, w, b)\n",
    "predict(pc, w, b);\n"
   ]
  },
  {
   "cell_type": "markdown",
   "metadata": {
    "scrolled": false
   },
   "source": [
    "# Teste 2\n",
    "\n",
    "Pontos \"Azuis\" : $ (1 , 2.5); (0.5, 0.5); (2, 2) (4, 0.1); (0.1,5) $\n",
    "\n",
    "Pontos \"Amarelos : $ (6, 4); (8, 2); (6,2) ; (5,5); (3, 7); (7,6); (8,5) $\n",
    "\n"
   ]
  },
  {
   "cell_type": "code",
   "execution_count": 3,
   "metadata": {},
   "outputs": [
    {
     "name": "stdout",
     "output_type": "stream",
     "text": [
      "A reta não foi encontrada após 100000 iteraçõess\n",
      "A equacao da reta final é:  3.2 * x +  1.7000000000136595 * y + 1  = 0   encontrado em  100000 iteracoes\n"
     ]
    },
    {
     "data": {
      "image/png": "[encoded data removed]",
      "text/plain": [
       "<Figure size 432x288 with 1 Axes>"
      ]
     },
     "metadata": {
      "needs_background": "light"
     },
     "output_type": "display_data"
    },
    {
     "data": {
      "image/png": "[encoded data removed]",
      "text/plain": [
       "<Figure size 432x288 with 1 Axes>"
      ]
     },
     "metadata": {
      "needs_background": "light"
     },
     "output_type": "display_data"
    }
   ],
   "source": [
    "x2 = np.array([[1, 2.5], [0.5, 0.5], [2, 2], [4, 0.1], [0.1, 5] , [6,4], [8,2], [6,2], [5, 5], [3, 7], [7, 6], [8, 5]])\n",
    "y2 = [-1 , -1, -1, -1 , -1 , 1, 1, 1, 1, 1, 1, 1]\n",
    "\n",
    "b = 1\n",
    "wi = [0.2, 1]\n",
    "[w, it] = percepetron(x2, y2, b, wi)\n",
    "\n",
    "print(\"A equacao da reta final é: \", w[0],\"* x + \", w[1],\"* y +\", b,\" = 0   encontrado em \", it, \"iteracoes\")"
   ]
  },
  {
   "cell_type": "markdown",
   "metadata": {},
   "source": [
    "# Análise\n",
    "\n",
    "Após alguns testes, é possível afirmar que esse algoritmo é extremamente limitado. Apesar de funcionar bem para uma quantidade de pontos pequena, se a quantidade de pontos for maior que 6, e o conjunto vetor $ w_i $ e \"bias\" iniciais gerarem uma reta muito distante da ideal, o número de iterações já passa do limite estabelecido.\n",
    "\n",
    "Com isso estabelecido, uma sugestão de melhoria para o algoritmo seria um fator que calcula o erro de cada ponto, que poderia entrar no calculo da atualização com o objetivo de fazer com  cada atualização aproxime mais a reta atual da reta procurada."
   ]
  },
  {
   "cell_type": "code",
   "execution_count": 5,
   "metadata": {},
   "outputs": [
    {
     "data": {
      "text/plain": [
       "array([[1. , 2.5],\n",
       "       [0.5, 0.5],\n",
       "       [2. , 2. ],\n",
       "       [6. , 4. ],\n",
       "       [8. , 2. ],\n",
       "       [6. , 2. ]])"
      ]
     },
     "execution_count": 5,
     "metadata": {},
     "output_type": "execute_result"
    }
   ],
   "source": [
    "x"
   ]
  },
  {
   "cell_type": "code",
   "execution_count": null,
   "metadata": {},
   "outputs": [],
   "source": []
  }
 ],
 "metadata": {
  "kernelspec": {
   "display_name": "Python 3",
   "language": "python",
   "name": "python3"
  },
  "language_info": {
   "codemirror_mode": {
    "name": "ipython",
    "version": 3
   },
   "file_extension": ".py",
   "mimetype": "text/x-python",
   "name": "python",
   "nbconvert_exporter": "python",
   "pygments_lexer": "ipython3",
   "version": "3.7.4"
  }
 },
 "nbformat": 4,
 "nbformat_minor": 2
}
