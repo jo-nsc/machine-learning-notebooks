{
 "cells": [
  {
   "cell_type": "markdown",
   "metadata": {},
   "source": [
    "# Regressão Logística"
   ]
  },
  {
   "attachments": {
    "image.png": {
     "image/png": "[encoded data removed]"
    }
   },
   "cell_type": "markdown",
   "metadata": {},
   "source": [
    "data: 03/2020\n",
    "\n",
    "# Resumo\n",
    "\n",
    "Neste caderno o tema tratado sera sobre regressão logística. Será explicado todos os aspectos sobre esse modelo e será implementado um algoritmo para esse modelo, utilizando-se de gradiende descendente. Assim testaremos e tentaremos visualizar suas aplicações e discutiremos alguns resultados.\n",
    "\n",
    "\n",
    "\n",
    "# Sumário\n",
    " \n",
    " <ol>\n",
    "<li>Introdução</li>\n",
    "<li>Medidas de Erro</li>\n",
    "<li>Gradiente Descendente</li>\n",
    "<li>Algoritmo de Regressão Logística</li>\n",
    "<li>Visualização</li>\n",
    "<li>Teste</li>\n",
    "<li>Bibliografia</li>\n",
    "</ol>\n",
    "\n",
    "\n",
    "## 1. Introdução\n",
    "A regressão logística é outro modelo linear que trata também do problema de classificação. Contudo, diferente dos outros modelos estudados até o presente momento, ele não trata da decisão de classificar um dado de uma maneira binária. Ou seja, ao invés de produzir uma saída +-1 para um determinado dado, ele retorna uma probabilidade ou seja, um valor entre 0 e 1. Esse modelo é extremamente útil em momentos que uma resposta binária é insuficiente para lidar de uma maneira satisfatória com o problema.\n",
    "\n",
    "O modelo é montado para que sua saída possa ser interpretada como uma probabilidade, ou seja, signifique o quão provável é de determinado dado ter uma classificação. Por exemplo, se para o nosso conjunto de dados $ x, y $ os vetores $ x_n $ conterem os valores de pressão arterial, nível de colesterol, peso, idade e outros fatores de um conjunto grande de pacientes, e o valor de $ y_n $ dizer se esses pacientes sofreram um infarto ou não(ou seja, for 1 se esses pacientes sofreram um infarto, e -1 se não sofreram). Ao aplicarmos o modelo para um novo paciente baseado nesses dados, a saída a probabilidade de que ele venha a sofrer um infarto.\n",
    "\n",
    "Para que a saída do modelo possa ser interpretada como uma probabilidade, precisamos restringí-la a um número entre 0 e 1. Uma maneira eficiente de fazê-lo seria se basear nos modelos lineares anteriores e adaptar o valor de saída para esse intervalo.\n",
    "\n",
    "No modelo de regressão linear, nós calculavamos $ h(x) = w^Tx $ que dava como resultado um valor real. Para adaptarmos essa ideia utilizaremos de apoio a função sigmóide $\\theta (s) =  \\frac{e^s}{1 + e^s} $, que para qualquer $s$ real, retorna um valor entre 0 e 1 segundo o gráfico a seguir:\n",
    "\n",
    "![image.png](attachment:image.png)\n",
    "\n",
    "Pelo gráfico é visível que quanto menor o $ s $ mais ele se aproxima de 0, e quanto maior o $ s $, mais ele se aproxima de 1, contudo, ele só assumiria esses valores em $ \\pm \\infty $.\n",
    "\n",
    "A ideia do modelo é então, aplicar essa função sigmóide para o número real $ w^Tx $, fazendo que ela retorne um valor probabilístico, a função $ h(x) $ para a regressão logística fica então $ h(x) = \\theta (w^Tx) $.\n",
    "\n",
    "Para esse modelo de aprendizado, nossa função alvo se comportará como uma distribuição de probabilidade $ f(x) = P(y|x) $."
   ]
  },
  {
   "cell_type": "markdown",
   "metadata": {},
   "source": [
    "## 2. Medidas de Erro\n",
    "\n",
    "A medida de erro ponto a ponto que é utilizada na regressão logística é a ideia de: Quão provável é que nós acertemos a saída y de uma entrada $ x $ se nosso $ h(x) $ fosse igual a distribuição alvo $ P(y|x)$ ?\n",
    "Segundo as propriedades da função sigmóide que utilizamos, é facil verificar que $P(y|x) = \\theta(y \\textbf{w}^Tx) $.\n",
    "Como os dados $ (x_1, y_1), (x_2,y_2),..., (x_n,y_n) $ são independentes entre si, a probabilidade de de encontrar todos os  $y_n$'s para os $x_n$'s correspondentes é o produto:\n",
    "$\\prod \\limits_{n = 1} ^{N} P(y_n|x_n) $.\n",
    "\n",
    "O método é então, encontrar os valores que maximizam essa probabilidade. Esse problema é equivalente a minimizar uma função mais simples de lidar:\n",
    "\n",
    "$ \\frac{-1}{N} ln(\\prod \\limits_{n = 1} ^{N} P(y_n|x_n))  =  \\frac{1}{N} \\sum \\limits_{n = 1} ^{N} ln(\\frac{1}{P(y_n|x_n)}) $\n",
    "\n",
    "Substituindo $ P(y_n|x_n) $ na fórmula temos que estamos minimizando :\n",
    "\n",
    "$ \\frac{1}{N} \\sum \\limits_{n = 1} ^{N} ln(\\frac{1}{\\theta(y \\textbf{w}^Tx)}) $\n",
    "\n",
    "em termos de $ w $. Como o nosso objetivo é minimizar essa quantidade, podemos interpretá-la como uma \"medida de erro\". Ao substituir a função sigmóide, chegamos na expressão do erro de entrada da Regressão Logística.\n",
    "\n",
    "$ E_{in}(\\textbf{w}) = \\frac {1}{N} \\sum \\limits_{n = 1} ^{N} ln(1 + e^{-y_n \\textbf{w}^T x_n} )$.\n",
    "\n",
    "Seguindo uma abordagem já utilizada nos outros modelos lineares, tentaremos fazer o aprendizado de uma forma que o $ E_{in} $ seja o mínimo.\n",
    "\n",
    "Na regressão linear, foi possível obter uma fórmula analítica para que $ E_{in}$ fosse o mínimo, utilizando $ \\nabla E_{in} = 0 $. Contudo, para regressão logística, a forma analítica não é possível de ser solucionada. Sendo assim, a abordagem que utilizaremos para esse modelo será uma maneira de chegarmos em um valor próximo de $ \\nabla E_{in} = 0 $.\n"
   ]
  },
  {
   "attachments": {
    "image.png": {
     "image/png": "[encoded data removed]"
    }
   },
   "cell_type": "markdown",
   "metadata": {},
   "source": [
    "## 3. Gradiente Descendente\n",
    "\n",
    "Gradiente descendente é uma técnica de minimizar uma função duplamente diferenciável, como por exemplo $ E_{in}(\\textbf{w})$. É um método em que começamos com um $ \\textbf{w}(0)$ e vamos iterativamente atualizando seu valor na direção e sentido que faça com que diminua seu $ E_{in} $, até chegar em um ponto em que ele é mínimo. Uma dificuldade que encontramos com o gradiente descendente, é que esse $w $ encontrado após $ n $ iterações leva a um *mínimo local*, e não necessáriamente ao mínimo global da função.\n",
    "Essa ferramenta é extremamente útil em problemas de aprendizado de máquina, já que ela é uma maneira iterativa que tende a levar a medida de erro a um mínimo.\n",
    "\n",
    "Um exemplo do gradiente descendente aplicado a uma superfície (considerando a dimensão de $ \\textbf{w} = 1 $) se encontra na figura a seguir: \n",
    "\n",
    "![image.png](attachment:image.png)\n",
    "\n",
    "Podemos ver então, o quão a ferramenta do gradiente descendente é potente, já que consegue encontrar mínimos de erro de uma maneira muito eficiente, e também o quanto ela pode ser limitada para alguns casos, já que ela pode encontrar um mínimo que não seja bom para a resolução do problema.\n",
    "\n",
    "### 3.1 Formulação matemática\n",
    "\n",
    "No gradiente descendente, atualizamos o vetor $ \\textbf{w} $ a cada iteração na direção do vetor que diminui seu $ E_{in} $. Definindo o vetor $ \\hat{\\textbf{v}} $ como essa direção e sentido, podemos calculá-lo:\n",
    "\n",
    "\n",
    "$ \\hat{\\textbf{v}}  = - \\frac{\\nabla E_{in}(\\textbf{w}(0))}{||\\nabla E_{in}(\\textbf{w}(0))||} $\n",
    "\n",
    "E a atualização ocorre seguindo:\n",
    "\n",
    "$ \\textbf{w}(n) = \\textbf{w}(n-1) + \\eta \\hat{\\textbf{v}}$\n",
    "\n",
    "sendo $ \\eta$ um fator de atualização.\n",
    "\n",
    "\n",
    "### 3.2 Gradiente Descendente aplicado a Regressão Logística\n",
    "\n",
    "A vantagem de aplicar esse método à Regressão Logística é que a função $ E_{in}(\\textbf{w}) $ é convexa, ou seja, tem apenas um ponto de otimização, no caso de mínimo. Isso significa da prática que independente do $ \\textbf{w}(0) $, ao aplicarmos o gradiente descendente sempre encontraremos o mínimo global da função.\n",
    "\n",
    "Para regressão logística descobrimos $ \\hat{\\textbf{v}} $ por:\n",
    "\n",
    "$ \\nabla E_{in}(\\textbf {w}) = - \\frac {1}{N} \\sum \\limits_{n = 1}^{N} \\frac{y_n \\textbf{x}_n}{1 + e^{y_n \\textbf{w}^T \\textbf{x}_n}} $.\n",
    "\n",
    "Sendo assim, o algoritmo de regressão linear utilizando-se gradiente descendente é: inicializar com um $ \\textbf{w}(0) $ aleatório e atualizá-lo na direção contrária de $ \\hat{\\textbf{v}} $ a cada iteração até que seja a hora de parar.\n",
    "\n",
    "Para o algoritmo que será implementado, nós inicializaremos o vetor $ \\textbf{w} $ com valores aleatórios, seguindo uma distribuição normal com média zero e variância baixa. O algoritmo terminará de rodar se a norma do vetor gradiente do erro for menor que um número pré estipulado, ou se o laço passar de um número de iterações limite.\n",
    "\n"
   ]
  },
  {
   "cell_type": "markdown",
   "metadata": {},
   "source": [
    "## 4.Algoritmo de Regressão Logística"
   ]
  },
  {
   "cell_type": "code",
   "execution_count": 59,
   "metadata": {},
   "outputs": [],
   "source": [
    "from random import seed\n",
    "from random import gauss\n",
    "import numpy as np \n",
    "import math as mt\n",
    "\n",
    "def tetha(s):\n",
    "    return mt.exp(s)/(1 + mt.exp(s))\n",
    "\n",
    "def logistic(x, y):\n",
    "    #Inicializar\n",
    "    t = 0\n",
    "    seed(1)\n",
    "    k = 0.1\n",
    "    n = x.ndim # ve a dimensão do vetor X\n",
    "    if (n == 1):\n",
    "        m = len(x)\n",
    "        p = 1\n",
    "        x = x.reshape((len(x), 1))\n",
    "    else:\n",
    "        m, p = np.shape(x)\n",
    "    ones = np.ones((len(x), 1))\n",
    "    x = np.append(ones, x, axis = 1)\n",
    "    w = np.ones(p + 1)\n",
    "    for i in range(len(w)):\n",
    "        w[i] = gauss(0, 0.5)\n",
    "    while (True):\n",
    "        t += 1\n",
    "        soma = np.zeros(len(w))\n",
    "        for i in range(m):\n",
    "            s = y[i] * w.dot(x[i,:])\n",
    "            soma = soma + (y[i]*x[i,:])/(1 + mt.exp(s) )\n",
    "            #print(soma)\n",
    "        vt = (1/len(y))*soma\n",
    "        w += k*vt\n",
    "        if (abs(np.linalg.norm(vt)) <= 10e-2 or t >= 10000):\n",
    "            break\n",
    "    return w\n",
    "    \n",
    "def prob(x, w):\n",
    "    return tetha(w.dot(x))\n",
    "    "
   ]
  },
  {
   "cell_type": "markdown",
   "metadata": {},
   "source": [
    "## 5.Visualização"
   ]
  },
  {
   "cell_type": "code",
   "execution_count": 60,
   "metadata": {
    "scrolled": true
   },
   "outputs": [
    {
     "name": "stdout",
     "output_type": "stream",
     "text": [
      " A probabilidade do ponto (8, 7) ser amarelo é:  0.9318706364428564\n",
      " A probabilidade do ponto (-1, -1) ser amarelo é:  0.34098897266797457\n"
     ]
    },
    {
     "data": {
      "image/png": "[encoded data removed]",
      "text/plain": [
       "<Figure size 432x288 with 1 Axes>"
      ]
     },
     "metadata": {
      "needs_background": "light"
     },
     "output_type": "display_data"
    }
   ],
   "source": [
    "import matplotlib.pyplot as plt\n",
    "\n",
    "def esbocar(x, y):\n",
    "    pbx = np.max(x[:,0])\n",
    "    pby = np.max(x[:,1])\n",
    "    psx = np.min(x[:,0])\n",
    "    psy = np.min(x[:,1])\n",
    "    #plt.figure(i)\n",
    "    plt.scatter(x[:,0],x[:,1],c=y)\n",
    "\n",
    "\n",
    "\n",
    "x = np.array([[1, 2.5], \n",
    "               [0.5, 0.5], \n",
    "               [2, 2], \n",
    "               [4, 0.1], \n",
    "               [0.1, 5] , \n",
    "               [6,4], \n",
    "               [8,2], \n",
    "               [6,2], \n",
    "               [5, 5], \n",
    "               [3, 7], \n",
    "               [7, 6], \n",
    "               [8, 5], \n",
    "               [4, 3], \n",
    "               [6, 2.5],\n",
    "               [2, 3],\n",
    "               [9, 1.5],\n",
    "               [6, 1],\n",
    "              \n",
    "               [2,5], \n",
    "               [0,6], \n",
    "               [0, 7], \n",
    "               [4, 5], \n",
    "               [6, 6.5], \n",
    "               [0.3, 0], \n",
    "               [8, 0], \n",
    "               [4, 1],\n",
    "               [2, -1],\n",
    "               [4, 2],\n",
    "               [0, 2],\n",
    "             ])\n",
    "y = [-1 , -1, -1, -1 , 1 , 1, 1, -1, 1, 1, 1, 1, -1, 1, 1, -1, -1, 1, 1, 1, 1, 1, -1, -1, -1, -1, -1, -1]\n",
    "\n",
    "xteste = np.array([[8, 7],\n",
    "                   [0, 0]])\n",
    "\n",
    "w = logistic(x, y)\n",
    "\n",
    "esbocar(x, y)\n",
    "\n",
    "plt.scatter(xteste[:,0], xteste[:,1], c= 'red')\n",
    "\n",
    "ones = np.ones((len(xteste), 1))\n",
    "xteste = np.append(ones, xteste, axis = 1)\n",
    "\n",
    "print (\" A probabilidade do ponto (8, 7) ser amarelo é: \", prob(xteste[0,:], w))\n",
    "print (\" A probabilidade do ponto (-1, -1) ser amarelo é: \", prob(xteste[1,:], w))"
   ]
  },
  {
   "cell_type": "markdown",
   "metadata": {},
   "source": [
    "## 6.Teste\n",
    "\n",
    "Com os dados (pontos amarelos e azuis) utilizamos o algoritmo para descobrir o valor do vetor $ \\textbf{w}(0) $. E com ele, nosso objetivo foi descobrir a probabilidade desses dois pontos vermelhos $(8, 7)$ e $(0,0)$ serem pontos amarelos.\n",
    "Utilizando-se da previsão acima, chegamos em:\n",
    "\n",
    "Probabilidade de $(8, 7) $ ser amarelo: 93 %\n",
    "\n",
    "Probabilidade de $(0, 0) $ ser amarelo: 34 %\n",
    "\n",
    "Visualizando o gráfico acima, é possível perceber que o ponto $ (8, 7) $ está bem acima da maioria dos amarelos, e, seguindo um modelo linear, é muito provável que seja amarelo também. Segundo essa lógica, o ponto  $ (0, 0) $ está entre os azuis, então é bem menos provável que seja amarelo.\n",
    "\n",
    "Esse teste mostra a versátilidade do modelo, já que diferente dos outros modelos de classificação, ele não nos mostra uma decisão binária (é ou não amarelo), mas sim retorna a um número real que pode ser interpretado como a probabilidade de determinada decisão binária ser \"prudente\", o que é extremamente útil para diversas aplicações."
   ]
  },
  {
   "cell_type": "markdown",
   "metadata": {},
   "source": [
    "## 7. Bibliografia e Sites\n",
    "\n",
    "\n",
    "[1] Learning From Data - Yaser S. Abu Mustafa\n",
    "\n",
    "[2] https://work.caltech.edu/lectures.html\n",
    "\n",
    "[3] http://cs231n.github.io/python-numpy-tutorial/\n",
    "\n",
    "[4] https://towardsdatascience.com/logistic-regression-detailed-overview-46c4da4303bc\n",
    "\n",
    "[5] https://www.statisticssolutions.com/what-is-logistic-regression/\n",
    "\n"
   ]
  },
  {
   "cell_type": "code",
   "execution_count": null,
   "metadata": {},
   "outputs": [],
   "source": []
  }
 ],
 "metadata": {
  "kernelspec": {
   "display_name": "Python 3",
   "language": "python",
   "name": "python3"
  },
  "language_info": {
   "codemirror_mode": {
    "name": "ipython",
    "version": 3
   },
   "file_extension": ".py",
   "mimetype": "text/x-python",
   "name": "python",
   "nbconvert_exporter": "python",
   "pygments_lexer": "ipython3",
   "version": "3.7.4"
  }
 },
 "nbformat": 4,
 "nbformat_minor": 2
}
